{
 "cells": [
  {
   "cell_type": "code",
   "execution_count": 11,
   "metadata": {},
   "outputs": [
    {
     "name": "stdout",
     "output_type": "stream",
     "text": [
      "Ваш алгоритм угадывает число в среднем за 4 попыток\n"
     ]
    },
    {
     "data": {
      "text/plain": [
       "4"
      ]
     },
     "execution_count": 11,
     "metadata": {},
     "output_type": "execute_result"
    }
   ],
   "source": [
    "import numpy as np\n",
    "number = np.random.randint(1, 101)\n",
    "\n",
    "\n",
    "def game_core_v1(number):\n",
    "    predict = 50  # 1-е предполагаемое число, среднее значение в интервале\n",
    "# загадываемых чисел от 1 до 100\n",
    "    count = 0\n",
    "    lowerBound = 1\n",
    "    upperBound = 101\n",
    "    while predict != number:  # код выполняется до тех пор пока предполагаемое\n",
    "# число не равно загаданному\n",
    "        count += 1\n",
    "        if predict > number:\n",
    "            upperBound = predict  # изменение верхней границы диапазона\n",
    "# предполагаемых чисел\n",
    "        else:\n",
    "            lowerBound = predict  # изменение нижней границы диапазона\n",
    "# предполагаемых чисел\n",
    "        predict = (lowerBound + upperBound) // 2\n",
    "    return(count)\n",
    "\n",
    "\n",
    "def score_game(game_core):\n",
    "    '''Запускаем игру 1000 раз, чтобы узнать, как быстро угадывается число'''\n",
    "    count_ls = []\n",
    "    np.random.seed(1)  # фиксируем RANDOM SEED, чтобы ваш эксперимент был\n",
    "# воспроизводим!\n",
    "    random_array = np.random.randint(1, 101, size=(1000))\n",
    "    for number in random_array:\n",
    "        count_ls.append(game_core(number))\n",
    "    score = int(np.mean(count_ls))\n",
    "    print(f\"Ваш алгоритм угадывает число в среднем за {score} попыток\")\n",
    "    return(score)\n",
    "score_game(game_core_v1)\n"
   ]
  }
 ],
 "metadata": {
  "kernelspec": {
   "display_name": "Python 3",
   "language": "python",
   "name": "python3"
  },
  "language_info": {
   "codemirror_mode": {
    "name": "ipython",
    "version": 3
   },
   "file_extension": ".py",
   "mimetype": "text/x-python",
   "name": "python",
   "nbconvert_exporter": "python",
   "pygments_lexer": "ipython3",
   "version": "3.8.5"
  }
 },
 "nbformat": 4,
 "nbformat_minor": 4
}
